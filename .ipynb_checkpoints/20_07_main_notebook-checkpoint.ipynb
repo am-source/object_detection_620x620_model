{
 "cells": [
  {
   "cell_type": "markdown",
   "metadata": {},
   "source": [
    "# Webcam setup test"
   ]
  },
  {
   "cell_type": "code",
   "execution_count": 10,
   "metadata": {},
   "outputs": [],
   "source": [
    "cap = cv2.VideoCapture(0)\n",
    "cam_resolution = (1280, 720)"
   ]
  },
  {
   "cell_type": "code",
   "execution_count": null,
   "metadata": {},
   "outputs": [],
   "source": [
    "while True: \n",
    "    _, frame = cap.read()\n",
    "    image_np = cv2.resize(frame, cam_resolution)\n",
    "    \n",
    "    \n",
    "    cv2.imshow(\"object detection\", frame)\n",
    "    \n",
    "    if cv2.waitKey(1) & 0xFF == ord('q'):\n",
    "        cap.release()\n",
    "        break\n",
    "cv2.destroyAllWindows() "
   ]
  },
  {
   "cell_type": "code",
   "execution_count": 12,
   "metadata": {},
   "outputs": [],
   "source": [
    "cap.release()"
   ]
  },
  {
   "cell_type": "markdown",
   "metadata": {},
   "source": [
    "# NEW main"
   ]
  },
  {
   "cell_type": "code",
   "execution_count": 1,
   "metadata": {},
   "outputs": [],
   "source": [
    "import cv2\n",
    "import detect_handler as detect\n",
    "from hoch_regal_lager import Hochregallager\n",
    "from camera import MyCamera\n",
    "import coordinates"
   ]
  },
  {
   "cell_type": "code",
   "execution_count": 2,
   "metadata": {},
   "outputs": [],
   "source": [
    "hochregallager = Hochregallager()\n",
    "cam_resolution = (1280, 720)"
   ]
  },
  {
   "cell_type": "code",
   "execution_count": null,
   "metadata": {},
   "outputs": [],
   "source": []
  },
  {
   "cell_type": "code",
   "execution_count": 3,
   "metadata": {},
   "outputs": [],
   "source": [
    "# provide MyCamera with correct cam source (ID), standard is 0\n",
    "cam = MyCamera(0)\n",
    "# print(\"ENTERED generate_frames!\")\n",
    "while True:\n",
    "    # print(\"IN while True BLOCK!\")\n",
    "    if not cam.frame_available():\n",
    "        continue\n",
    "    # print(\"IN while True BLOCK! - IF ret WAS TRUE\")\n",
    "\n",
    "    image_np_with_detections = detect.handle_detection(camera=cam, hochregallager=hochregallager)\n",
    "    # resize to match original resolution\n",
    "    image_np_with_detections = cv2.resize(image_np_with_detections, cam_resolution)\n",
    "    \n",
    "    \n",
    "    cv2.imshow(\"object detection\", image_np_with_detections)\n",
    "    \n",
    "    # break with \"q\" key\n",
    "    if cv2.waitKey(1) & 0xFF == ord('q'):\n",
    "        cam.release()\n",
    "        break\n",
    "cv2.destroyAllWindows() \n",
    "    \n",
    "    "
   ]
  },
  {
   "cell_type": "code",
   "execution_count": null,
   "metadata": {},
   "outputs": [],
   "source": []
  },
  {
   "cell_type": "code",
   "execution_count": null,
   "metadata": {},
   "outputs": [],
   "source": []
  },
  {
   "cell_type": "code",
   "execution_count": null,
   "metadata": {},
   "outputs": [],
   "source": []
  },
  {
   "cell_type": "code",
   "execution_count": null,
   "metadata": {},
   "outputs": [],
   "source": []
  },
  {
   "cell_type": "code",
   "execution_count": null,
   "metadata": {},
   "outputs": [],
   "source": []
  }
 ],
 "metadata": {
  "kernelspec": {
   "display_name": "Python 3",
   "language": "python",
   "name": "python3"
  },
  "language_info": {
   "codemirror_mode": {
    "name": "ipython",
    "version": 3
   },
   "file_extension": ".py",
   "mimetype": "text/x-python",
   "name": "python",
   "nbconvert_exporter": "python",
   "pygments_lexer": "ipython3",
   "version": "3.8.5"
  }
 },
 "nbformat": 4,
 "nbformat_minor": 2
}
