{
 "cells": [
  {
   "cell_type": "code",
   "execution_count": 11,
   "metadata": {},
   "outputs": [
    {
     "data": {
      "text/plain": [
       "-1"
      ]
     },
     "execution_count": 11,
     "metadata": {},
     "output_type": "execute_result"
    }
   ],
   "source": [
    "img = \"WIN_20220801_13_47_28_Pro\"\n",
    "frame = cv2.imread(\"D:/Download_IN_D/BA - mat/COMPLETE_IMG_ARCHIVE/{}.jpg\".format(img))\n",
    "frame_2 = frame.copy()\n",
    "frame_3 = frame.copy()\n",
    "frame_4 = frame.copy()\n",
    "\n",
    "\n",
    "\n",
    "frame = apply_random_image_distortions(frame)\n",
    "frame_2 = apply_random_image_distortions(frame_2)\n",
    "frame_3 = apply_random_image_distortions(frame_3)\n",
    "frame_4 = apply_random_image_distortions(frame_4)\n",
    "\n",
    "\n",
    "cv2.imshow(\"ALL FILTER\", cv2.resize(np.asarray(frame), (1200, 800)))\n",
    "cv2.imshow(\"ALL frame_2\", cv2.resize(np.asarray(frame_2), (1200, 800)))\n",
    "cv2.imshow(\"ALL frame_3\", cv2.resize(np.asarray(frame_3), (1200, 800)))\n",
    "cv2.imshow(\"ALL frame_4\", cv2.resize(np.asarray(frame_4), (1200, 800)))\n",
    "\n",
    "cv2.waitKey(0)"
   ]
  },
  {
   "cell_type": "code",
   "execution_count": null,
   "metadata": {},
   "outputs": [],
   "source": []
  },
  {
   "cell_type": "code",
   "execution_count": null,
   "metadata": {},
   "outputs": [],
   "source": []
  },
  {
   "cell_type": "code",
   "execution_count": null,
   "metadata": {},
   "outputs": [],
   "source": []
  },
  {
   "cell_type": "code",
   "execution_count": 1,
   "metadata": {},
   "outputs": [],
   "source": [
    "import os\n",
    "import xml.etree.ElementTree as ET"
   ]
  },
  {
   "cell_type": "code",
   "execution_count": 6,
   "metadata": {
    "scrolled": true
   },
   "outputs": [],
   "source": [
    "### Some images are output as completely black, not sure why. Retry if necessary\n",
    "\n",
    "directory_in_str = \"C:/Users/Adnan/Desktop/back_view_model_FINAL/version_12_10/images_11_10\"\n",
    "\n",
    "directory = os.fsencode(directory_in_str)\n",
    "counter = 0\n",
    "for file in os.listdir(directory):\n",
    "    \n",
    "    filename = os.fsdecode(file)\n",
    "    if filename.endswith(\".jpg\"): \n",
    "    #if filename.endswith(\"0221011_13_41_21_Pro.jpg\"): \n",
    "        #print(filename.split(\".\")[0])\n",
    "        \n",
    "        # GET IMAGE\n",
    "        full_image_path = directory_in_str + \"/\" + filename\n",
    "        frame = cv2.imread(full_image_path)\n",
    "        # AUGMENT IMAGE\n",
    "        frame = apply_random_image_distortions(frame)\n",
    "        # SAVE TO DIR\n",
    "        new_file_name = f'{filename.split(\".\")[0]}_modified'\n",
    "        image_path = f'C:/Users/Adnan/Desktop/back_view_model_FINAL/version_12_10/images_11_10/{new_file_name}.jpg'\n",
    "        cv2.imwrite(image_path, frame)\n",
    "        \n",
    "        \n",
    "        ##### XML stuff\n",
    "        #tree = ET.parse(f'{directory_in_str}/{filename.split(\".\")[0]}.xml')\n",
    "        \n",
    "        #xml_filename = tree.find(\"filename\").text\n",
    "        #tree.find(\"filename\").text = f\"{new_file_name}.jpg\"\n",
    "        \n",
    "        #tree.write(f'D:/Download_IN_D/BA - mat/COMPLETE_IMG_ARCHIVE/adjusted_images/done/rest/{new_file_name}.xml')\n",
    "        \n",
    "        \n",
    "        \n",
    "        #with open(directory_in_str + f'/{filename.split(\".\")[0]}.xml') as xml_file:\n",
    "        #    content = xml_file.read()\n",
    "        #    print(content)\n",
    "        #    print(f\"content type was: {type(content)}\")\n",
    "\n",
    "        \n",
    "    else:\n",
    "        continue"
   ]
  },
  {
   "cell_type": "code",
   "execution_count": null,
   "metadata": {},
   "outputs": [],
   "source": []
  },
  {
   "cell_type": "code",
   "execution_count": null,
   "metadata": {},
   "outputs": [],
   "source": []
  },
  {
   "cell_type": "code",
   "execution_count": null,
   "metadata": {},
   "outputs": [],
   "source": []
  },
  {
   "cell_type": "code",
   "execution_count": 49,
   "metadata": {},
   "outputs": [
    {
     "data": {
      "text/plain": [
       "-1"
      ]
     },
     "execution_count": 49,
     "metadata": {},
     "output_type": "execute_result"
    }
   ],
   "source": []
  },
  {
   "cell_type": "code",
   "execution_count": null,
   "metadata": {},
   "outputs": [],
   "source": []
  },
  {
   "cell_type": "code",
   "execution_count": null,
   "metadata": {},
   "outputs": [],
   "source": []
  },
  {
   "cell_type": "code",
   "execution_count": 2,
   "metadata": {},
   "outputs": [],
   "source": [
    "from skimage.util import random_noise\n",
    "import tensorflow.image as tf_img\n",
    "import random\n",
    "import cv2\n",
    "import numpy as np\n",
    "\n",
    "def apply_random_image_distortions(image):\n",
    "    if random.randint(0,1):\n",
    "        image = tf_img.random_brightness(image, 0.1)\n",
    "        image = tf_img.random_saturation(image, 1, 4)\n",
    "        image = tf_img.random_contrast(image,0.5, 1)\n",
    "\n",
    "    else:\n",
    "        image = tf_img.random_contrast(image,0.5, 1)\n",
    "        image = tf_img.random_brightness(image, 0.1)\n",
    "        image = tf_img.random_saturation(image, 1, 4)\n",
    "    image = np.asarray(image)\n",
    "\n",
    "    if random.randint(0,1):\n",
    "        if random.randint(0,1):\n",
    "            # Add salt-and-pepper noise to the image.\n",
    "            image = random_noise(image, mode='s&p',amount=0.01)\n",
    "        else:\n",
    "            image = random_noise(image, mode='gaussian',mean=0)\n",
    "            # The above function returns a floating-point image\n",
    "            # on the range [0, 1], thus we changed it to 'uint8'\n",
    "            # and from [0,255]\n",
    "            image = np.array(255*image, dtype = 'uint8')\n",
    "    return image\n",
    "    "
   ]
  },
  {
   "cell_type": "code",
   "execution_count": null,
   "metadata": {},
   "outputs": [],
   "source": []
  }
 ],
 "metadata": {
  "kernelspec": {
   "display_name": "Python 3",
   "language": "python",
   "name": "python3"
  },
  "language_info": {
   "codemirror_mode": {
    "name": "ipython",
    "version": 3
   },
   "file_extension": ".py",
   "mimetype": "text/x-python",
   "name": "python",
   "nbconvert_exporter": "python",
   "pygments_lexer": "ipython3",
   "version": "3.8.5"
  }
 },
 "nbformat": 4,
 "nbformat_minor": 2
}
