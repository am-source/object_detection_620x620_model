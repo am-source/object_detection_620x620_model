{
 "cells": [
  {
   "cell_type": "markdown",
   "metadata": {},
   "source": [
    "# Webcam setup test"
   ]
  },
  {
   "cell_type": "code",
   "execution_count": 4,
   "metadata": {},
   "outputs": [],
   "source": [
    "import cv2"
   ]
  },
  {
   "cell_type": "code",
   "execution_count": 9,
   "metadata": {},
   "outputs": [],
   "source": [
    "cap = cv2.VideoCapture(0)\n",
    "cam_resolution = (1280, 720)"
   ]
  },
  {
   "cell_type": "code",
   "execution_count": 1,
   "metadata": {},
   "outputs": [],
   "source": [
    "# https://stackoverflow.com/a/50053219\n",
    "def apply_brightness_contrast(input_img, brightness = 0, contrast = 0):\n",
    "    if brightness != 0:\n",
    "        if brightness > 0:\n",
    "            shadow = brightness\n",
    "            highlight = 255\n",
    "        else:\n",
    "            shadow = 0\n",
    "            highlight = 255 + brightness\n",
    "        alpha_b = (highlight - shadow)/255\n",
    "        gamma_b = shadow\n",
    "\n",
    "        buf = cv2.addWeighted(input_img, alpha_b, input_img, 0, gamma_b)\n",
    "    else:\n",
    "        buf = input_img.copy()\n",
    "\n",
    "    if contrast != 0:\n",
    "        f = 131*(contrast + 127)/(127*(131-contrast))\n",
    "        alpha_c = f\n",
    "        gamma_c = 127*(1-f)\n",
    "\n",
    "        buf = cv2.addWeighted(buf, alpha_c, buf, 0, gamma_c)\n",
    "\n",
    "    return buf"
   ]
  },
  {
   "cell_type": "code",
   "execution_count": null,
   "metadata": {},
   "outputs": [],
   "source": []
  },
  {
   "cell_type": "code",
   "execution_count": 7,
   "metadata": {},
   "outputs": [],
   "source": [
    "import cv2\n",
    "import numpy as np\n",
    "\n",
    "def nothing(x):\n",
    "    pass\n",
    "\n",
    "cap = cv2.VideoCapture(0)\n",
    "cam_resolution = (1280, 720)\n",
    "\n",
    "# Initialize HSV min/max values\n",
    "b = c  = 0\n",
    "\n",
    "# Create a window\n",
    "cv2.namedWindow('image_np')\n",
    "\n",
    "# Create trackbars for color change\n",
    "cv2.createTrackbar('Brightness', 'image_np', 0, 127, nothing)\n",
    "cv2.setTrackbarMin('Brightness', 'image_np', -127)\n",
    "cv2.createTrackbar('Contrast', 'image_np', -64, 64, nothing)\n",
    "cv2.setTrackbarMin('Contrast', 'image_np', -64)\n",
    "\n",
    "# Set default value for trackbars\n",
    "cv2.setTrackbarPos('Brightness', 'image_np', -0)\n",
    "cv2.setTrackbarPos('Contrast', 'image_np', -0)\n",
    "\n",
    "\n",
    "while True: \n",
    "    _, frame = cap.read()\n",
    "    image_np = cv2.resize(frame, cam_resolution)\n",
    "\n",
    "\n",
    "    image_np = apply_brightness_contrast(image_np, b, c)\n",
    "\n",
    "    \n",
    "    ###################################################################################\n",
    "    #b = 0 # brightness value\n",
    "    #c = 0 #contrast value\n",
    "\n",
    "    #out = apply_brightness_contrast(image_np, b, c)\n",
    "    ##################################################################################   \n",
    "\n",
    "    # Display result image\n",
    "    cv2.imshow('image_np', image_np)\n",
    "    \n",
    "\n",
    "    \n",
    "    \n",
    "    # Get current positions of all trackbars\n",
    "    b = cv2.getTrackbarPos('Brightness', 'image_np')\n",
    "    c = cv2.getTrackbarPos('Contrast', 'image_np')\n",
    "    \n",
    "    if cv2.waitKey(10) & 0xFF == ord('q'):\n",
    "        break\n",
    "\n",
    "cv2.destroyAllWindows()"
   ]
  },
  {
   "cell_type": "code",
   "execution_count": null,
   "metadata": {},
   "outputs": [],
   "source": []
  },
  {
   "cell_type": "code",
   "execution_count": 11,
   "metadata": {},
   "outputs": [],
   "source": [
    "while True: \n",
    "    _, frame = cap.read()\n",
    "    image_np = cv2.resize(frame, cam_resolution)\n",
    "    \n",
    "    ###################################################################################\n",
    "    b = 0 # brightness value\n",
    "    c = 0 #contrast value\n",
    "\n",
    "    out = apply_brightness_contrast(image_np, b, c)\n",
    "    ##################################################################################\n",
    "    \n",
    "    \n",
    "    cv2.imshow(\"object detection\", out)\n",
    "    \n",
    "    if cv2.waitKey(1) & 0xFF == ord('q'):\n",
    "        cap.release()\n",
    "        break\n",
    "cv2.destroyAllWindows() "
   ]
  },
  {
   "cell_type": "code",
   "execution_count": null,
   "metadata": {},
   "outputs": [],
   "source": [
    "cap.release()"
   ]
  },
  {
   "cell_type": "code",
   "execution_count": null,
   "metadata": {},
   "outputs": [],
   "source": []
  }
 ],
 "metadata": {
  "kernelspec": {
   "display_name": "Python 3",
   "language": "python",
   "name": "python3"
  },
  "language_info": {
   "codemirror_mode": {
    "name": "ipython",
    "version": 3
   },
   "file_extension": ".py",
   "mimetype": "text/x-python",
   "name": "python",
   "nbconvert_exporter": "python",
   "pygments_lexer": "ipython3",
   "version": "3.8.5"
  }
 },
 "nbformat": 4,
 "nbformat_minor": 2
}
