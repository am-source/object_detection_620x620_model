{
 "cells": [
  {
   "cell_type": "markdown",
   "metadata": {},
   "source": [
    "Before running the following setup and the application, make sure that these requirements are already fulfilled:\n",
    "- python, anaconda distribution\n",
    "  (in case there are problems with different versions, Anaconda3-2020.11-Windows-x86_64 was used)\n",
    "  (https://repo.anaconda.com/archive/)\n",
    "- c++ compiler\n",
    "  (you can use Visual Studio Community, check \"Desktio development with C++\")\n",
    "  (https://visualstudio.microsoft.com/de/vs/community/)\n",
    "  \n",
    "(OPTIONAL: \n",
    " - To optimize processing by using GPU instead of CPU, \n",
    " (https://developer.nvidia.com/cuda-10.1-download-archive-base)\n",
    " (https://developer.nvidia.com/rdp/cudnn-archive)\n",
    ")\n",
    "\n",
    "- protoc / prtocol buffers\n",
    "  (get latest packet with correct OS, unzip it in a suitable directory and add the \"bin\" folder inside the unzipped folder\n",
    "  to your PATH variable)\n",
    "  (https://github.com/protocolbuffers/protobuf/releases)\n",
    " "
   ]
  },
  {
   "cell_type": "markdown",
   "metadata": {},
   "source": [
    "# Setup directory and clone project"
   ]
  },
  {
   "cell_type": "code",
   "execution_count": null,
   "metadata": {},
   "outputs": [],
   "source": [
    "#!mkdir ObjectDetection\n",
    "#!cd ObjectDetection && git clone https://github.com/am-source/object_detection_620x620_model.git"
   ]
  },
  {
   "cell_type": "markdown",
   "metadata": {},
   "source": [
    "# Clone tensorflow models to install Tensorflow and related requirements"
   ]
  },
  {
   "cell_type": "code",
   "execution_count": null,
   "metadata": {},
   "outputs": [],
   "source": [
    "!cd Tensorflow && git clone https://github.com/tensorflow/models"
   ]
  },
  {
   "cell_type": "code",
   "execution_count": null,
   "metadata": {},
   "outputs": [],
   "source": [
    "!cd models\n",
    "!cd research\n",
    "!protoc object_detection/protos/*.proto --python_out=.\n",
    "!copy onject_detection\\packages\\tf2\\setup.py ."
   ]
  },
  {
   "cell_type": "code",
   "execution_count": null,
   "metadata": {},
   "outputs": [],
   "source": [
    "!python -m pip install ."
   ]
  },
  {
   "cell_type": "markdown",
   "metadata": {},
   "source": [
    "# Install missing packages from python requirements file"
   ]
  },
  {
   "cell_type": "code",
   "execution_count": null,
   "metadata": {},
   "outputs": [],
   "source": [
    "!pip install -r requirements.txt"
   ]
  }
 ],
 "metadata": {
  "kernelspec": {
   "display_name": "Python 3",
   "language": "python",
   "name": "python3"
  },
  "language_info": {
   "codemirror_mode": {
    "name": "ipython",
    "version": 3
   },
   "file_extension": ".py",
   "mimetype": "text/x-python",
   "name": "python",
   "nbconvert_exporter": "python",
   "pygments_lexer": "ipython3",
   "version": "3.8.5"
  }
 },
 "nbformat": 4,
 "nbformat_minor": 4
}
