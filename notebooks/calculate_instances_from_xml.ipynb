{
 "cells": [
  {
   "cell_type": "code",
   "execution_count": 1,
   "metadata": {},
   "outputs": [],
   "source": [
    "import os\n",
    "from lxml import etree"
   ]
  },
  {
   "cell_type": "code",
   "execution_count": 6,
   "metadata": {},
   "outputs": [
    {
     "name": "stdout",
     "output_type": "stream",
     "text": [
      "WerkStueck total instances: 1333\n",
      "Behaelter total instances: 1894\n",
      "Done\n"
     ]
    }
   ],
   "source": [
    "PATH = 'D:\\Download_IN_D\\BA - mat\\COMPLETE_IMG_ARCHIVE'\n",
    "wkstk_class_counter = 0\n",
    "behaelter_class_counter = 0\n",
    "for filename in os.listdir(PATH):\n",
    "    if filename.endswith('.xml'):\n",
    "        with open(os.path.join(PATH, filename)) as f:\n",
    "            #content = f.read()\n",
    "            \n",
    "            root = etree.parse(f).getroot()\n",
    "            #instruments = root.find('Instruments')\n",
    "            objects = root.findall('object')\n",
    "            for obj in objects:\n",
    "                obj_class = obj.find('name')\n",
    "                #print(obj_class.text)\n",
    "                if obj_class.text == \"WerkStueck\":\n",
    "                    wkstk_class_counter+=1\n",
    "                else:\n",
    "                    behaelter_class_counter+=1\n",
    "            \n",
    "print(\"WerkStueck total instances: {}\".format(wkstk_class_counter))\n",
    "print(\"Behaelter total instances: {}\".format(behaelter_class_counter))\n",
    "print(\"Done\")"
   ]
  },
  {
   "cell_type": "code",
   "execution_count": 4,
   "metadata": {},
   "outputs": [
    {
     "name": "stdout",
     "output_type": "stream",
     "text": [
      "WerkStueck (test) total instances: 232\n",
      "Behaelter (test) total instances: 355\n",
      "Done\n"
     ]
    }
   ],
   "source": [
    "PATH = 'D:\\Download_IN_D\\BA - mat\\COMPLETE_IMG_ARCHIVE\\comple_archive_distributed\\\\test'\n",
    "wkstk_class_counter = 0\n",
    "behaelter_class_counter = 0\n",
    "for filename in os.listdir(PATH):\n",
    "    if filename.endswith('.xml'):\n",
    "        with open(os.path.join(PATH, filename)) as f:\n",
    "            #content = f.read()\n",
    "            \n",
    "            root = etree.parse(f).getroot()\n",
    "            #instruments = root.find('Instruments')\n",
    "            objects = root.findall('object')\n",
    "            for obj in objects:\n",
    "                obj_class = obj.find('name')\n",
    "                #print(obj_class.text)\n",
    "                if obj_class.text == \"WerkStueck\":\n",
    "                    wkstk_class_counter+=1\n",
    "                else:\n",
    "                    behaelter_class_counter+=1\n",
    "            \n",
    "print(\"WerkStueck (test) total instances: {}\".format(wkstk_class_counter))\n",
    "print(\"Behaelter (test) total instances: {}\".format(behaelter_class_counter))\n",
    "print(\"Done\")"
   ]
  },
  {
   "cell_type": "code",
   "execution_count": 5,
   "metadata": {
    "scrolled": true
   },
   "outputs": [
    {
     "name": "stdout",
     "output_type": "stream",
     "text": [
      "WerkStueck (train) total instances: 1101\n",
      "Behaelter (train) total instances: 1539\n",
      "Done\n"
     ]
    }
   ],
   "source": [
    "PATH = 'D:\\Download_IN_D\\BA - mat\\COMPLETE_IMG_ARCHIVE\\comple_archive_distributed\\\\train'\n",
    "wkstk_class_counter = 0\n",
    "behaelter_class_counter = 0\n",
    "for filename in os.listdir(PATH):\n",
    "    if filename.endswith('.xml'):\n",
    "        with open(os.path.join(PATH, filename)) as f:\n",
    "            #content = f.read()\n",
    "            \n",
    "            root = etree.parse(f).getroot()\n",
    "            #instruments = root.find('Instruments')\n",
    "            objects = root.findall('object')\n",
    "            for obj in objects:\n",
    "                obj_class = obj.find('name')\n",
    "                #print(obj_class.text)\n",
    "                if obj_class.text == \"WerkStueck\":\n",
    "                    wkstk_class_counter+=1\n",
    "                else:\n",
    "                    behaelter_class_counter+=1\n",
    "            \n",
    "print(\"WerkStueck (train) total instances: {}\".format(wkstk_class_counter))\n",
    "print(\"Behaelter (train) total instances: {}\".format(behaelter_class_counter))\n",
    "print(\"Done\")"
   ]
  },
  {
   "cell_type": "code",
   "execution_count": null,
   "metadata": {},
   "outputs": [],
   "source": []
  },
  {
   "cell_type": "code",
   "execution_count": null,
   "metadata": {},
   "outputs": [],
   "source": []
  },
  {
   "cell_type": "code",
   "execution_count": 7,
   "metadata": {},
   "outputs": [
    {
     "name": "stdout",
     "output_type": "stream",
     "text": [
      "WerkStueck (train) total instances: 711\n",
      "Behaelter (train) total instances: 932\n",
      "Done\n"
     ]
    }
   ],
   "source": [
    "PATH = 'D:\\Download_IN_D\\BA - mat\\images_01_08\\\\back_view_mainly_back\\\\train'\n",
    "wkstk_class_counter = 0\n",
    "behaelter_class_counter = 0\n",
    "for filename in os.listdir(PATH):\n",
    "    if filename.endswith('.xml'):\n",
    "        with open(os.path.join(PATH, filename)) as f:\n",
    "            #content = f.read()\n",
    "            \n",
    "            root = etree.parse(f).getroot()\n",
    "            #instruments = root.find('Instruments')\n",
    "            objects = root.findall('object')\n",
    "            for obj in objects:\n",
    "                obj_class = obj.find('name')\n",
    "                #print(obj_class.text)\n",
    "                if obj_class.text == \"WerkStueck\":\n",
    "                    wkstk_class_counter+=1\n",
    "                else:\n",
    "                    behaelter_class_counter+=1\n",
    "            \n",
    "print(\"WerkStueck (train) total instances: {}\".format(wkstk_class_counter))\n",
    "print(\"Behaelter (train) total instances: {}\".format(behaelter_class_counter))\n",
    "print(\"Done\")"
   ]
  },
  {
   "cell_type": "code",
   "execution_count": 8,
   "metadata": {},
   "outputs": [
    {
     "name": "stdout",
     "output_type": "stream",
     "text": [
      "WerkStueck (train) total instances: 207\n",
      "Behaelter (train) total instances: 312\n",
      "Done\n"
     ]
    }
   ],
   "source": [
    "PATH = 'D:\\Download_IN_D\\BA - mat\\images_01_08\\\\back_view_mainly_back\\\\test'\n",
    "wkstk_class_counter = 0\n",
    "behaelter_class_counter = 0\n",
    "for filename in os.listdir(PATH):\n",
    "    if filename.endswith('.xml'):\n",
    "        with open(os.path.join(PATH, filename)) as f:\n",
    "            #content = f.read()\n",
    "            \n",
    "            root = etree.parse(f).getroot()\n",
    "            #instruments = root.find('Instruments')\n",
    "            objects = root.findall('object')\n",
    "            for obj in objects:\n",
    "                obj_class = obj.find('name')\n",
    "                #print(obj_class.text)\n",
    "                if obj_class.text == \"WerkStueck\":\n",
    "                    wkstk_class_counter+=1\n",
    "                else:\n",
    "                    behaelter_class_counter+=1\n",
    "            \n",
    "print(\"WerkStueck (train) total instances: {}\".format(wkstk_class_counter))\n",
    "print(\"Behaelter (train) total instances: {}\".format(behaelter_class_counter))\n",
    "print(\"Done\")"
   ]
  },
  {
   "cell_type": "code",
   "execution_count": null,
   "metadata": {},
   "outputs": [],
   "source": []
  },
  {
   "cell_type": "code",
   "execution_count": null,
   "metadata": {},
   "outputs": [],
   "source": []
  },
  {
   "cell_type": "code",
   "execution_count": null,
   "metadata": {},
   "outputs": [],
   "source": []
  }
 ],
 "metadata": {
  "kernelspec": {
   "display_name": "Python 3",
   "language": "python",
   "name": "python3"
  },
  "language_info": {
   "codemirror_mode": {
    "name": "ipython",
    "version": 3
   },
   "file_extension": ".py",
   "mimetype": "text/x-python",
   "name": "python",
   "nbconvert_exporter": "python",
   "pygments_lexer": "ipython3",
   "version": "3.8.5"
  }
 },
 "nbformat": 4,
 "nbformat_minor": 4
}
