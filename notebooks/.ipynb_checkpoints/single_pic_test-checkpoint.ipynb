{
 "cells": [
  {
   "cell_type": "markdown",
   "metadata": {},
   "source": [
    "# Setup"
   ]
  },
  {
   "cell_type": "code",
   "execution_count": 29,
   "metadata": {},
   "outputs": [],
   "source": [
    "\n",
    "WORKSPACE_PATH = \"D:/face_mask_detect/ba_new_test_620x620/RealTimeObjectDetection/Tensorflow/workspace\"\n",
    "SCRIPTS_PATH = \"D:/face_mask_detect/ba_new_test_620x620/RealTimeObjectDetection/Tensorflow/scripts\"\n",
    "APIMODEL_PATH = \"D:/face_mask_detect/ba_new_test_620x620/RealTimeObjectDetection/Tensorflow/models\"\n",
    "ANNOTATION_PATH = WORKSPACE_PATH + \"/annotations\"\n",
    "IMAGE_PATH = WORKSPACE_PATH + \"/images\"\n",
    "MODEL_PATH = WORKSPACE_PATH + \"/models\"\n",
    "PRETRAINED_MODEL_PATH = WORKSPACE_PATH + \"/pre-trained-models\"\n",
    "\n",
    "\n",
    "CUSTOM_MODEL_NAME = \"my_ssd_mobnet_only_back_view_8batch_401img\"\n",
    "CONFIG_PATH = MODEL_PATH + \"/{}/pipeline.config\".format(CUSTOM_MODEL_NAME)\n",
    "CHECKPOINT_PATH = MODEL_PATH + \"/{}\".format(CUSTOM_MODEL_NAME)"
   ]
  },
  {
   "cell_type": "code",
   "execution_count": null,
   "metadata": {},
   "outputs": [],
   "source": []
  },
  {
   "cell_type": "code",
   "execution_count": 2,
   "metadata": {},
   "outputs": [],
   "source": [
    "import cv2\n",
    "import tensorflow as tf\n",
    "from object_detection.utils import config_util\n",
    "from object_detection.protos import pipeline_pb2\n",
    "from google.protobuf import text_format"
   ]
  },
  {
   "cell_type": "code",
   "execution_count": 8,
   "metadata": {},
   "outputs": [],
   "source": [
    "#CONFIG_PATH = MODEL_PATH + \"/\" + CUSTOM_MODEL_NAME + \"/pipeline.config\""
   ]
  },
  {
   "cell_type": "code",
   "execution_count": 3,
   "metadata": {},
   "outputs": [],
   "source": [
    "import os\n",
    "from object_detection.utils import label_map_util\n",
    "from object_detection.builders import model_builder"
   ]
  },
  {
   "cell_type": "code",
   "execution_count": 30,
   "metadata": {},
   "outputs": [],
   "source": [
    "# Load pipeline config and build a detection model\n",
    "configs = config_util.get_configs_from_pipeline_file(CONFIG_PATH)\n",
    "detection_model = model_builder.build(model_config=configs[\"model\"], is_training=False)\n",
    "\n",
    "# Restore checkpoint\n",
    "ckpt = tf.compat.v2.train.Checkpoint(model=detection_model)\n",
    "ckpt.restore(os.path.join(CHECKPOINT_PATH, \"ckpt-23\")).expect_partial()\n",
    "\n",
    "\n",
    "@tf.function\n",
    "def detect_fn(image):\n",
    "    image, shapes = detection_model.preprocess(image)\n",
    "    prediction_dict = detection_model.predict(image, shapes)\n",
    "    detections = detection_model.postprocess(prediction_dict, shapes)\n",
    "    return detections"
   ]
  },
  {
   "cell_type": "markdown",
   "metadata": {},
   "source": [
    "# Detect in Real-Time"
   ]
  },
  {
   "cell_type": "code",
   "execution_count": 7,
   "metadata": {},
   "outputs": [],
   "source": [
    "category_index = label_map_util.create_category_index_from_labelmap(\n",
    "    ANNOTATION_PATH + \"/label_map.pbtxt\"\n",
    ")"
   ]
  },
  {
   "cell_type": "code",
   "execution_count": 15,
   "metadata": {},
   "outputs": [],
   "source": [
    "# Setup capture\n",
    "#cap = cv2.VideoCapture(0)\n",
    "#width = int(cap.get(cv2.CAP_PROP_FRAME_WIDTH))\n",
    "#height = int(cap.get(cv2.CAP_PROP_FRAME_HEIGHT))"
   ]
  },
  {
   "cell_type": "code",
   "execution_count": 10,
   "metadata": {},
   "outputs": [],
   "source": [
    "from object_detection.utils import visualization_utils as viz_utils\n",
    "import numpy as np"
   ]
  },
  {
   "cell_type": "code",
   "execution_count": null,
   "metadata": {},
   "outputs": [],
   "source": [
    "img = \"WIN_20220801_14_01_57_Pro\"\n",
    "frame = cv2.imread(\"D:/Download_IN_D\\BA - mat/COMPLETE_IMG_ARCHIVE/comple_archive_distributed/test/{}.jpg\".format(img))\n",
    "\n",
    "\n",
    "# ret, frame = cap.read()\n",
    "image_np = np.array(frame)\n",
    "\n",
    "input_tensor = tf.convert_to_tensor(np.expand_dims(image_np, 0), dtype=tf.float32)\n",
    "detections = detect_fn(input_tensor)\n",
    "\n",
    "num_detections = int(detections.pop(\"num_detections\"))\n",
    "detections = {\n",
    "    key: value[0, :num_detections].numpy() for key, value in detections.items()\n",
    "}\n",
    "detections[\"num_detections\"] = num_detections\n",
    "\n",
    "# detection_classes should be ints.\n",
    "detections[\"detection_classes\"] = detections[\"detection_classes\"].astype(np.int64)\n",
    "\n",
    "\n",
    "image_np_with_detections = image_np.copy()\n",
    "\n",
    "\n",
    "# min score for bounding boxes\n",
    "min_score_threshold = 0.6\n",
    "\n",
    "\n",
    "label_id_offset = 1\n",
    "image_np_with_detections = image_np.copy()\n",
    "\n",
    "viz_utils.visualize_boxes_and_labels_on_image_array(\n",
    "                image_np_with_detections,\n",
    "                detections['detection_boxes'],\n",
    "                detections['detection_classes']+label_id_offset,\n",
    "                detections['detection_scores'],\n",
    "                category_index,\n",
    "                use_normalized_coordinates=True,\n",
    "                max_boxes_to_draw=20,\n",
    "                min_score_thresh=.5,\n",
    "                agnostic_mode=False)\n",
    "\n",
    "##############\n",
    "visualize_boxes_and_labels_for_behaelter_and_werkstueck(\n",
    "    image_np_with_detections,\n",
    "    detections['detection_boxes'],\n",
    "    detections['detection_classes']+label_id_offset,\n",
    "    detections['detection_scores'],\n",
    "    category_index,\n",
    "    behaelter_detections,\n",
    "    hochregallager,\n",
    "    use_normalized_coordinates=True,\n",
    "    max_boxes_to_draw=20,\n",
    "    agnostic_mode=False,\n",
    "    line_thickness=4,\n",
    "    groundtruth_box_visualization_color=\"black\",\n",
    "    skip_werkstueck=True,\n",
    "    skip_boxes=False,\n",
    "    skip_scores=True,\n",
    "    skip_labels=False,\n",
    "    text_font_size=16,\n",
    ")\n",
    "#############\n",
    "\n",
    "\n",
    "\n",
    "cv2.imshow(\"object detection\", cv2.resize(image_np_with_detections, (1500, 1200)))\n",
    "cv2.waitKey(0)\n",
    "\n",
    "\n",
    "# if cv2.waitKey(1) & 0xFF == ord('q'):\n",
    "#     cap.release()\n",
    "#     break"
   ]
  },
  {
   "cell_type": "code",
   "execution_count": null,
   "metadata": {},
   "outputs": [],
   "source": []
  },
  {
   "cell_type": "code",
   "execution_count": null,
   "metadata": {},
   "outputs": [],
   "source": []
  },
  {
   "cell_type": "code",
   "execution_count": null,
   "metadata": {},
   "outputs": [],
   "source": []
  },
  {
   "cell_type": "code",
   "execution_count": null,
   "metadata": {},
   "outputs": [],
   "source": []
  },
  {
   "cell_type": "code",
   "execution_count": null,
   "metadata": {},
   "outputs": [],
   "source": []
  }
 ],
 "metadata": {
  "kernelspec": {
   "display_name": "Python 3",
   "language": "python",
   "name": "python3"
  },
  "language_info": {
   "codemirror_mode": {
    "name": "ipython",
    "version": 3
   },
   "file_extension": ".py",
   "mimetype": "text/x-python",
   "name": "python",
   "nbconvert_exporter": "python",
   "pygments_lexer": "ipython3",
   "version": "3.8.5"
  }
 },
 "nbformat": 4,
 "nbformat_minor": 2
}
